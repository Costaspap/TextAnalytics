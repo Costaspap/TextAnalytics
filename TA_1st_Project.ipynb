{
 "cells": [
  {
   "cell_type": "code",
   "execution_count": 12,
   "metadata": {},
   "outputs": [
    {
     "name": "stdout",
     "output_type": "stream",
     "text": [
      "Imports Completed\n"
     ]
    }
   ],
   "source": [
    "import re\n",
    "import os\n",
    "from nltk import sent_tokenize, word_tokenize\n",
    "from IPython.display import clear_output\n",
    "from collections import Counter\n",
    "import gc\n",
    "import pickle\n",
    "\"\"\"\n",
    "# Save objects\n",
    "with open('corpus', 'wb') as f:\n",
    "    pickle.dump(corpus, f)\n",
    "    \n",
    "with open('vocabulary', 'wb') as f:\n",
    "    pickle.dump(vocabulary, f) \n",
    "    \n",
    "with open('WordCounts', 'wb') as f:\n",
    "    pickle.dump(WordCounts, f) \n",
    "\n",
    "# Load objects\n",
    "with open('corpus', 'rb') as f:\n",
    "    corpus = pickle.load(f)\n",
    "\n",
    "with open('vocabulary', 'rb') as f:\n",
    "    vocabulary = pickle.load(f)\n",
    "    \n",
    "with open('WordCounts', 'rb') as f:\n",
    "    WordCounts = pickle.load(f)\n",
    "\"\"\"\n",
    "print(\"Imports Completed\")"
   ]
  },
  {
   "cell_type": "code",
   "execution_count": 2,
   "metadata": {},
   "outputs": [],
   "source": [
    "def clean_text(text):\n",
    "    \"\"\" \n",
    "    1. Remove html like text from europarl e.g. <Chapter 1> or line breaks\n",
    "    2. Remove line breaks\n",
    "    3. Reduce all whitespaces to 1\n",
    "    4. turn everything to lower case\n",
    "    \"\"\"\n",
    "    clean = re.compile('<.*?>')\n",
    "    return re.sub(' +', ' ', re.sub(clean, '', text.replace('\\n', ''))).lower()"
   ]
  },
  {
   "cell_type": "code",
   "execution_count": 82,
   "metadata": {},
   "outputs": [
    {
     "name": "stdout",
     "output_type": "stream",
     "text": [
      "File ep-99-12-17.txt finished. Completed 100.0%\n"
     ]
    }
   ],
   "source": [
    "#path = 'E:\\\\Desktop\\\\en\\\\'\n",
    "text = ''\n",
    "corpus = []\n",
    "sentences = []\n",
    "full_text = ''\n",
    "total = len(os.listdir(path)) # Total files\n",
    "count = 0\n",
    "\n",
    "for file in os.listdir(path):\n",
    "    f = open(path + file, 'r', encoding=\"utf-8\")\n",
    "    text = f.read()\n",
    "    full_text = full_text + text\n",
    "    f.close()\n",
    "    \n",
    "    sentences = [sent.strip() for sent in sent_tokenize(clean_text(text))]\n",
    "        \n",
    "    corpus = corpus + sentences\n",
    "    count += 1\n",
    "    \n",
    "    clear_output(wait = True)\n",
    "    print('File ' + file + ' finished. Completed ' + str(round(count*100/total,2)) + '%')"
   ]
  },
  {
   "cell_type": "code",
   "execution_count": 86,
   "metadata": {},
   "outputs": [
    {
     "name": "stdout",
     "output_type": "stream",
     "text": [
      "Full Text Cleaned.\n",
      "-------------------------\n",
      "-------------------------\n",
      "Words Tokenized.\n",
      "-------------------------\n",
      "-------------------------\n",
      "Vocabulary Created.\n",
      "-------------------------\n",
      "-------------------------\n",
      "WordCounts Calculated.\n",
      "-------------------------\n",
      "-------------------------\n"
     ]
    }
   ],
   "source": [
    "regex = re.compile('[%s]' % re.escape(string.punctuation))\n",
    "\n",
    "full_text = regex.sub('', remove_unnecessary_text(full_text))\n",
    "print('Full Text Cleaned.')\n",
    "print('-------------------------')\n",
    "print('-------------------------')\n",
    "\n",
    "AllWords = word_tokenize(full_text)\n",
    "print('Words Tokenized.')\n",
    "print('-------------------------')\n",
    "print('-------------------------')\n",
    "\n",
    "vocabulary = set(AllWords)\n",
    "print('Vocabulary Created.')\n",
    "print('-------------------------')\n",
    "print('-------------------------')\n",
    "\n",
    "WordCounts = Counter(AllWords)\n",
    "print('WordCounts Calculated.')\n",
    "print('-------------------------')\n",
    "print('-------------------------')\n",
    "\n",
    "del full_text,AllWords"
   ]
  },
  {
   "cell_type": "code",
   "execution_count": 90,
   "metadata": {},
   "outputs": [
    {
     "data": {
      "text/plain": [
       "93"
      ]
     },
     "execution_count": 90,
     "metadata": {},
     "output_type": "execute_result"
    }
   ],
   "source": [
    "gc.collect()"
   ]
  },
  {
   "cell_type": "markdown",
   "metadata": {},
   "source": [
    "#### Starting point:"
   ]
  },
  {
   "cell_type": "code",
   "execution_count": 3,
   "metadata": {},
   "outputs": [],
   "source": [
    "WordCounts = None\n",
    "vocabulary = None\n",
    "\n",
    "# Load objects\n",
    "\n",
    "with open('vocabulary', 'rb') as f:\n",
    "    vocabulary = pickle.load(f)\n",
    "    \n",
    "with open('WordCounts', 'rb') as f:\n",
    "    WordCounts = pickle.load(f)"
   ]
  },
  {
   "cell_type": "code",
   "execution_count": 11,
   "metadata": {},
   "outputs": [
    {
     "name": "stdout",
     "output_type": "stream",
     "text": [
      "valid voc 43847\n",
      "invalid voc 352656\n"
     ]
    }
   ],
   "source": [
    "# Ignore low frequency words\n",
    "valid_vocabulary = [k for k,v in WordCounts.items() if v > 10]\n",
    "invalid_vocabulary = [k for k,v in WordCounts.items() if v <= 10]\n",
    "print(\"valid voc\", len(valid_vocabulary))\n",
    "print(\"invalid voc\", len(invalid_vocabulary))"
   ]
  },
  {
   "cell_type": "code",
   "execution_count": null,
   "metadata": {},
   "outputs": [],
   "source": [
    "# Replace OOV words in sentences\n",
    "total = len(sentences)\n",
    "for i in range(0,len(sentences)):\n",
    "    for word in invalid_vocabulary:\n",
    "        sentences[i].replace(word, 'UNK')\n",
    "    clear_output(wait = True)\n",
    "    print('Sentences processed ' + str(i+1) + ' out of ' + str(total) )"
   ]
  }
 ],
 "metadata": {
  "kernelspec": {
   "display_name": "Python 3",
   "language": "python",
   "name": "python3"
  },
  "language_info": {
   "codemirror_mode": {
    "name": "ipython",
    "version": 3
   },
   "file_extension": ".py",
   "mimetype": "text/x-python",
   "name": "python",
   "nbconvert_exporter": "python",
   "pygments_lexer": "ipython3",
   "version": "3.6.4"
  }
 },
 "nbformat": 4,
 "nbformat_minor": 2
}
