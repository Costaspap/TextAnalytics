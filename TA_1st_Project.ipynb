{
 "cells": [
  {
   "cell_type": "code",
   "execution_count": 49,
   "metadata": {},
   "outputs": [
    {
     "name": "stdout",
     "output_type": "stream",
     "text": [
      "Imports Completed\n"
     ]
    }
   ],
   "source": [
    "import re\n",
    "import os\n",
    "import string\n",
    "from nltk import sent_tokenize, word_tokenize, download\n",
    "from IPython.display import clear_output\n",
    "from collections import Counter\n",
    "import gc\n",
    "import pickle\n",
    "\"\"\"\n",
    "# Save objects\n",
    "with open('corpus', 'wb') as f:\n",
    "    pickle.dump(corpus, f)\n",
    "    \n",
    "with open('full_text', 'wb') as f:\n",
    "    pickle.dump(full_text, f)\n",
    "\n",
    "with open('full_text_clean', 'wb') as f:\n",
    "    pickle.dump(full_text_clean, f)\n",
    "\n",
    "with open('AllWords', 'wb') as f:\n",
    "    pickle.dump(AllWords, f) \n",
    "\n",
    "with open('vocabulary', 'wb') as f:\n",
    "    pickle.dump(vocabulary, f) \n",
    "    \n",
    "with open('WordCounts', 'wb') as f:\n",
    "    pickle.dump(WordCounts, f) \n",
    "\n",
    "# Load objects\n",
    "with open('corpus', 'rb') as f:\n",
    "    corpus = pickle.load(f)\n",
    "\n",
    "with open('full_text', 'rb') as f:\n",
    "    full_text = pickle.load(f)\n",
    "    \n",
    "with open('full_text_clean', 'rb') as f:\n",
    "    full_text_clean = pickle.load(f)\n",
    "\n",
    "with open('AllWords', 'rb') as f:\n",
    "    AllWords = pickle.load(f)\n",
    "\n",
    "with open('vocabulary', 'rb') as f:\n",
    "    vocabulary = pickle.load(f)\n",
    "    \n",
    "with open('WordCounts', 'rb') as f:\n",
    "    WordCounts = pickle.load(f)\n",
    "\"\"\"\n",
    "print(\"Imports Completed\")"
   ]
  },
  {
   "cell_type": "code",
   "execution_count": 36,
   "metadata": {},
   "outputs": [
    {
     "name": "stdout",
     "output_type": "stream",
     "text": [
      "[nltk_data] Downloading package punkt to /home/datum/nltk_data...\n",
      "[nltk_data]   Unzipping tokenizers/punkt.zip.\n"
     ]
    },
    {
     "data": {
      "text/plain": [
       "True"
      ]
     },
     "execution_count": 36,
     "metadata": {},
     "output_type": "execute_result"
    }
   ],
   "source": [
    "download('punkt')"
   ]
  },
  {
   "cell_type": "code",
   "execution_count": 37,
   "metadata": {},
   "outputs": [],
   "source": [
    "def clean_text(text):\n",
    "    \"\"\" \n",
    "    1. Remove html like text from europarl e.g. <Chapter 1>\n",
    "    2. Remove line breaks\n",
    "    3. Reduce all whitespaces to 1\n",
    "    4. turn everything to lower case\n",
    "    \"\"\"\n",
    "    clean = re.compile('<.*?>')\n",
    "    \n",
    "    out = text.replace('\\n', '') # Remove line breaks\n",
    "    out = re.sub(clean, '', out) # Remove tagged text e.g. <Chapter 1>\n",
    "    out = re.sub(' +', ' ', out) # Reduce whitespace down to one\n",
    "    \n",
    "    out = out.lower() # Turn everything to lower case\n",
    "    \n",
    "    return out"
   ]
  },
  {
   "cell_type": "code",
   "execution_count": 38,
   "metadata": {},
   "outputs": [
    {
     "name": "stdout",
     "output_type": "stream",
     "text": [
      "File ep-99-04-14.txt finished. Completed 100.0%\n"
     ]
    }
   ],
   "source": [
    "abs_path = os.getcwd()\n",
    "path = abs_path + '/en/'\n",
    "text = ''\n",
    "corpus = []\n",
    "sentences = []\n",
    "full_text = ''\n",
    "total = len(os.listdir(path)) # Total files\n",
    "count = 0\n",
    "\n",
    "for file in os.listdir(path):\n",
    "    f = open(path + file, 'r', encoding=\"utf-8\")\n",
    "    text = f.read()\n",
    "    full_text = full_text + text\n",
    "    f.close()\n",
    "    \n",
    "    sentences = [sent.strip() for sent in sent_tokenize(clean_text(text))]\n",
    "        \n",
    "    corpus = corpus + sentences\n",
    "    count += 1\n",
    "    \n",
    "    clear_output(wait = True)\n",
    "    print('File ' + file + ' finished. Completed ' + str(round(count*100/total,2)) + '%')"
   ]
  },
  {
   "cell_type": "code",
   "execution_count": 50,
   "metadata": {},
   "outputs": [],
   "source": [
    "with open('corpus', 'wb') as f:\n",
    "    pickle.dump(corpus, f)"
   ]
  },
  {
   "cell_type": "code",
   "execution_count": 51,
   "metadata": {},
   "outputs": [],
   "source": [
    "with open('full_text', 'wb') as f:\n",
    "    pickle.dump(full_text, f)"
   ]
  },
  {
   "cell_type": "code",
   "execution_count": null,
   "metadata": {},
   "outputs": [],
   "source": [
    "regex = re.compile('[%s]' % re.escape(string.punctuation))\n",
    "full_text_clean = regex.sub('', clean_text(full_text))\n",
    "\n",
    "print('-------------------------')\n",
    "print('Full Text Cleaned.')\n",
    "print('-------------------------')\n",
    "\n",
    "with open('full_text_clean', 'wb') as f:\n",
    "    pickle.dump(full_text_clean, f)\n",
    "\n",
    "del full_text"
   ]
  },
  {
   "cell_type": "code",
   "execution_count": 54,
   "metadata": {},
   "outputs": [
    {
     "data": {
      "text/plain": [
       "923"
      ]
     },
     "execution_count": 54,
     "metadata": {},
     "output_type": "execute_result"
    }
   ],
   "source": [
    "gc.collect()"
   ]
  },
  {
   "cell_type": "code",
   "execution_count": 59,
   "metadata": {},
   "outputs": [
    {
     "name": "stdout",
     "output_type": "stream",
     "text": [
      "-------------------------\n",
      "Words Tokenized.\n",
      "-------------------------\n",
      "Vocabulary Created.\n",
      "-------------------------\n",
      "WordCounts Calculated.\n",
      "-------------------------\n"
     ]
    }
   ],
   "source": [
    "AllWords = word_tokenize(full_text_clean)\n",
    "print('-------------------------')\n",
    "print('Words Tokenized.')\n",
    "print('-------------------------')\n",
    "\n",
    "vocabulary = set(AllWords)\n",
    "print('Vocabulary Created.')\n",
    "print('-------------------------')\n",
    "\n",
    "WordCounts = Counter(AllWords)\n",
    "print('WordCounts Calculated.')\n",
    "print('-------------------------')\n",
    "\n",
    "with open('AllWords', 'wb') as f:\n",
    "    pickle.dump(AllWords, f) \n",
    "\n",
    "with open('vocabulary', 'wb') as f:\n",
    "    pickle.dump(vocabulary, f) \n",
    "    \n",
    "with open('WordCounts', 'wb') as f:\n",
    "    pickle.dump(WordCounts, f) \n",
    "\n",
    "del full_text_clean, AllWords"
   ]
  },
  {
   "cell_type": "code",
   "execution_count": 60,
   "metadata": {},
   "outputs": [
    {
     "data": {
      "text/plain": [
       "977"
      ]
     },
     "execution_count": 60,
     "metadata": {},
     "output_type": "execute_result"
    }
   ],
   "source": [
    "gc.collect()"
   ]
  },
  {
   "cell_type": "markdown",
   "metadata": {},
   "source": [
    "#### Early starting point: Instead of all the above.."
   ]
  },
  {
   "cell_type": "code",
   "execution_count": 61,
   "metadata": {},
   "outputs": [],
   "source": [
    "corpus = None\n",
    "WordCounts = None\n",
    "vocabulary = None\n",
    "\n",
    "# Load objects\n",
    "\n",
    "with open('corpus', 'rb') as f:\n",
    "    corpus = pickle.load(f)\n",
    "\n",
    "with open('vocabulary', 'rb') as f:\n",
    "    vocabulary = pickle.load(f)\n",
    "    \n",
    "with open('WordCounts', 'rb') as f:\n",
    "    WordCounts = pickle.load(f)"
   ]
  },
  {
   "cell_type": "code",
   "execution_count": 62,
   "metadata": {},
   "outputs": [
    {
     "name": "stdout",
     "output_type": "stream",
     "text": [
      "valid voc 41064\n",
      "invalid voc 339343\n"
     ]
    }
   ],
   "source": [
    "# Ignore low frequency words\n",
    "valid_vocabulary = [k for k,v in WordCounts.items() if v > 10]\n",
    "invalid_vocabulary = [k for k,v in WordCounts.items() if v <= 10]\n",
    "print(\"valid voc\", len(valid_vocabulary))\n",
    "print(\"invalid voc\", len(invalid_vocabulary))\n",
    "\n",
    "with open('valid_vocabulary', 'wb') as f:\n",
    "    pickle.dump(valid_vocabulary, f) \n",
    "    \n",
    "with open('invalid_vocabulary', 'wb') as f:\n",
    "    pickle.dump(invalid_vocabulary, f) "
   ]
  },
  {
   "cell_type": "code",
   "execution_count": 64,
   "metadata": {},
   "outputs": [
    {
     "name": "stdout",
     "output_type": "stream",
     "text": [
      "Sentences processed 1479 out of 1582910\n"
     ]
    },
    {
     "ename": "KeyboardInterrupt",
     "evalue": "",
     "output_type": "error",
     "traceback": [
      "\u001b[0;31m---------------------------------------------------------------------------\u001b[0m",
      "\u001b[0;31mKeyboardInterrupt\u001b[0m                         Traceback (most recent call last)",
      "\u001b[0;32m<ipython-input-64-9ae57477c17a>\u001b[0m in \u001b[0;36m<module>\u001b[0;34m()\u001b[0m\n\u001b[1;32m      2\u001b[0m \u001b[0mtotal\u001b[0m \u001b[0;34m=\u001b[0m \u001b[0mlen\u001b[0m\u001b[0;34m(\u001b[0m\u001b[0mcorpus\u001b[0m\u001b[0;34m)\u001b[0m\u001b[0;34m\u001b[0m\u001b[0m\n\u001b[1;32m      3\u001b[0m \u001b[0;32mfor\u001b[0m \u001b[0mi\u001b[0m \u001b[0;32min\u001b[0m \u001b[0mrange\u001b[0m\u001b[0;34m(\u001b[0m\u001b[0;36m0\u001b[0m\u001b[0;34m,\u001b[0m\u001b[0mlen\u001b[0m\u001b[0;34m(\u001b[0m\u001b[0mcorpus\u001b[0m\u001b[0;34m)\u001b[0m\u001b[0;34m)\u001b[0m\u001b[0;34m:\u001b[0m\u001b[0;34m\u001b[0m\u001b[0m\n\u001b[0;32m----> 4\u001b[0;31m     \u001b[0;32mfor\u001b[0m \u001b[0mword\u001b[0m \u001b[0;32min\u001b[0m \u001b[0minvalid_vocabulary\u001b[0m\u001b[0;34m:\u001b[0m\u001b[0;34m\u001b[0m\u001b[0m\n\u001b[0m\u001b[1;32m      5\u001b[0m         \u001b[0mcorpus\u001b[0m\u001b[0;34m[\u001b[0m\u001b[0mi\u001b[0m\u001b[0;34m]\u001b[0m\u001b[0;34m.\u001b[0m\u001b[0mreplace\u001b[0m\u001b[0;34m(\u001b[0m\u001b[0mword\u001b[0m\u001b[0;34m,\u001b[0m \u001b[0;34m'UNK'\u001b[0m\u001b[0;34m)\u001b[0m\u001b[0;34m\u001b[0m\u001b[0m\n\u001b[1;32m      6\u001b[0m     \u001b[0mclear_output\u001b[0m\u001b[0;34m(\u001b[0m\u001b[0mwait\u001b[0m \u001b[0;34m=\u001b[0m \u001b[0;32mTrue\u001b[0m\u001b[0;34m)\u001b[0m\u001b[0;34m\u001b[0m\u001b[0m\n",
      "\u001b[0;31mKeyboardInterrupt\u001b[0m: "
     ]
    }
   ],
   "source": [
    "# Replace OOV words in sentences\n",
    "total = len(corpus)\n",
    "for i in range(0,len(corpus)):\n",
    "    for word in invalid_vocabulary:\n",
    "        corpus[i].replace(word, 'UNK')\n",
    "    clear_output(wait = True)\n",
    "    print('Sentences processed ' + str(i+1) + ' out of ' + str(total) )"
   ]
  },
  {
   "cell_type": "code",
   "execution_count": null,
   "metadata": {},
   "outputs": [],
   "source": [
    "with open('corpus_no_OOV', 'wb') as f:\n",
    "    pickle.dump(corpus, f)"
   ]
  },
  {
   "cell_type": "code",
   "execution_count": null,
   "metadata": {},
   "outputs": [],
   "source": [
    "corpus_no_OOV = None\n",
    "with open('corpus_no_OOV', 'rb') as f:\n",
    "    corpus_no_OOV = pickle.load(f)"
   ]
  },
  {
   "cell_type": "code",
   "execution_count": null,
   "metadata": {},
   "outputs": [],
   "source": []
  }
 ],
 "metadata": {
  "kernelspec": {
   "display_name": "Python 3",
   "language": "python",
   "name": "python3"
  },
  "language_info": {
   "codemirror_mode": {
    "name": "ipython",
    "version": 3
   },
   "file_extension": ".py",
   "mimetype": "text/x-python",
   "name": "python",
   "nbconvert_exporter": "python",
   "pygments_lexer": "ipython3",
   "version": "3.6.4"
  }
 },
 "nbformat": 4,
 "nbformat_minor": 2
}
