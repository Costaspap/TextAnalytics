{
 "cells": [
  {
   "cell_type": "code",
   "execution_count": 35,
   "metadata": {},
   "outputs": [
    {
     "name": "stdout",
     "output_type": "stream",
     "text": [
      "Imports Completed\n"
     ]
    }
   ],
   "source": [
    "import re\n",
    "import os\n",
    "import string\n",
    "from nltk import sent_tokenize, word_tokenize, download\n",
    "from IPython.display import clear_output\n",
    "from collections import Counter\n",
    "import gc\n",
    "import pickle\n",
    "\"\"\"\n",
    "# Save objects\n",
    "with open('object_name', 'wb') as f:\n",
    "    pickle.dump(object_variable, f)\n",
    "\n",
    "# Load objects\n",
    "with open('object_name', 'rb') as f:\n",
    "    object_variable = pickle.load(f)\n",
    "\"\"\"\n",
    "print(\"Imports Completed\")"
   ]
  },
  {
   "cell_type": "code",
   "execution_count": 36,
   "metadata": {},
   "outputs": [
    {
     "name": "stdout",
     "output_type": "stream",
     "text": [
      "[nltk_data] Downloading package punkt to /home/datum/nltk_data...\n",
      "[nltk_data]   Unzipping tokenizers/punkt.zip.\n"
     ]
    },
    {
     "data": {
      "text/plain": [
       "True"
      ]
     },
     "execution_count": 36,
     "metadata": {},
     "output_type": "execute_result"
    }
   ],
   "source": [
    "download('punkt')"
   ]
  },
  {
   "cell_type": "code",
   "execution_count": 36,
   "metadata": {},
   "outputs": [],
   "source": [
    "def clean_text(text):\n",
    "    \"\"\" \n",
    "    1. Remove html like text from europarl e.g. <Chapter 1>\n",
    "    2. Remove line breaks\n",
    "    3. Reduce all whitespaces to 1\n",
    "    4. turn everything to lower case\n",
    "    \"\"\"\n",
    "    clean = re.compile('<.*?>')\n",
    "    \n",
    "    out = text.replace('\\n', ' ') # Remove line breaks\n",
    "    out = re.sub(clean, ' ', out) # Remove tagged text e.g. <Chapter 1>\n",
    "    out = re.sub(' +', ' ', out) # Reduce whitespace down to one\n",
    "    \n",
    "    out = out.lower() # Turn everything to lower case\n",
    "    \n",
    "    return out"
   ]
  },
  {
   "cell_type": "code",
   "execution_count": 39,
   "metadata": {},
   "outputs": [
    {
     "name": "stdout",
     "output_type": "stream",
     "text": [
      "File ep-99-04-14.txt finished. Completed 100.0%\n"
     ]
    }
   ],
   "source": [
    "abs_path = os.getcwd()\n",
    "path = abs_path + '/en/'\n",
    "text = ''\n",
    "corpus_clean = []\n",
    "sentences = []\n",
    "corpus_original = ''\n",
    "total = len(os.listdir(path)) # Total files\n",
    "count = 0\n",
    "\n",
    "for file in os.listdir(path):\n",
    "    f = open(path + file, 'r', encoding=\"utf-8\")\n",
    "    file_text = f.read()\n",
    "    corpus_original = corpus_original + file_text\n",
    "    f.close()\n",
    "\n",
    "    regex = re.compile('[%s]' % re.escape(string.punctuation))\n",
    "    file_sentences = [regex.sub('', sent).strip() for sent in sent_tokenize(clean_text(file_text))]\n",
    "\n",
    "    corpus_clean = corpus_clean + file_sentences\n",
    "    count += 1\n",
    "    \n",
    "    clear_output(wait = True)\n",
    "    print('File ' + file + ' finished. Completed ' + str(round(count*100/total,2)) + '%')"
   ]
  },
  {
   "cell_type": "code",
   "execution_count": null,
   "metadata": {},
   "outputs": [],
   "source": [
    "\"\"\"\n",
    "demo corpus file:\n",
    "------------------------------------------------------------------\n",
    "original text: <class 'str'>\n",
    "<CHAPTER ID=\"005\">\n",
    "Voting time\n",
    "<SPEAKER ID=\"104\" NAME=\"President\">\n",
    "The next item is the vote.\n",
    "<P>\n",
    "(For the results and other details on the vote: see Minutes)\n",
    "------------------------------------------------------------------\n",
    "Its clean_text(text): <class 'str'>\n",
    " voting time the next item is the vote. (for the results and other details on the vote: see minutes) \n",
    "------------------------------------------------------------------\n",
    "Its sent_tokenize(clean_text(text)): <class 'list'>\n",
    "[' voting time the next item is the vote.', '(for the results and other details on the vote: see minutes)']\n",
    "------------------------------------------------------------------\n",
    "Its sentences = [sent.strip() for sent in sent_tokenize(clean_text(text))]: <class 'list'>\n",
    "['voting time the next item is the vote.', '(for the results and other details on the vote: see minutes)']\n",
    "------------------------------------------------------------------\n",
    "\"\"\""
   ]
  },
  {
   "cell_type": "code",
   "execution_count": 40,
   "metadata": {},
   "outputs": [],
   "source": [
    "# Save the basic objects:\n",
    "with open('corpus_original', 'wb') as f:\n",
    "    pickle.dump(corpus_original, f)\n",
    "with open('corpus_clean', 'wb') as f:\n",
    "    pickle.dump(corpus_clean, f)"
   ]
  },
  {
   "cell_type": "code",
   "execution_count": 41,
   "metadata": {},
   "outputs": [
    {
     "name": "stdout",
     "output_type": "stream",
     "text": [
      "-------------------------\n",
      "corpus_clean_string created.\n",
      "-------------------------\n"
     ]
    }
   ],
   "source": [
    "regex = re.compile('[%s]' % re.escape(string.punctuation))\n",
    "corpus_clean_string = regex.sub('', clean_text(corpus_original))\n",
    "\n",
    "print('-------------------------')\n",
    "print('corpus_clean_string created.')\n",
    "print('-------------------------')\n",
    "\n",
    "with open('corpus_clean_string', 'wb') as f:\n",
    "    pickle.dump(corpus_clean_string, f)\n",
    "\n",
    "del corpus_original"
   ]
  },
  {
   "cell_type": "code",
   "execution_count": 42,
   "metadata": {},
   "outputs": [
    {
     "data": {
      "text/plain": [
       "317"
      ]
     },
     "execution_count": 42,
     "metadata": {},
     "output_type": "execute_result"
    }
   ],
   "source": [
    "gc.collect()"
   ]
  },
  {
   "cell_type": "code",
   "execution_count": 44,
   "metadata": {},
   "outputs": [
    {
     "name": "stdout",
     "output_type": "stream",
     "text": [
      "-------------------------\n",
      "Words Tokenized.\n",
      "-------------------------\n",
      "Vocabulary Created.\n",
      "-------------------------\n",
      "WordCounts Calculated.\n",
      "-------------------------\n"
     ]
    }
   ],
   "source": [
    "AllWords = word_tokenize(corpus_clean_string)\n",
    "print('-------------------------')\n",
    "print('Words Tokenized.')\n",
    "print('-------------------------')\n",
    "\n",
    "vocabulary = set(AllWords)\n",
    "print('Vocabulary Created.')\n",
    "print('-------------------------')\n",
    "\n",
    "WordCounts = Counter(AllWords)\n",
    "print('WordCounts Calculated.')\n",
    "print('-------------------------')\n",
    "\n",
    "with open('AllWords', 'wb') as f:\n",
    "    pickle.dump(AllWords, f) \n",
    "\n",
    "with open('vocabulary', 'wb') as f:\n",
    "    pickle.dump(vocabulary, f) \n",
    "    \n",
    "with open('WordCounts', 'wb') as f:\n",
    "    pickle.dump(WordCounts, f) \n",
    "\n",
    "del corpus_clean_string, AllWords"
   ]
  },
  {
   "cell_type": "code",
   "execution_count": 46,
   "metadata": {},
   "outputs": [
    {
     "data": {
      "text/plain": [
       "0"
      ]
     },
     "execution_count": 46,
     "metadata": {},
     "output_type": "execute_result"
    }
   ],
   "source": [
    "gc.collect()"
   ]
  },
  {
   "cell_type": "markdown",
   "metadata": {},
   "source": [
    "#### Early starting point: Instead of all the above.."
   ]
  },
  {
   "cell_type": "code",
   "execution_count": 47,
   "metadata": {},
   "outputs": [],
   "source": [
    "corpus_clean = None\n",
    "WordCounts = None\n",
    "vocabulary = None\n",
    "\n",
    "# Load objects\n",
    "\n",
    "with open('corpus_clean', 'rb') as f:\n",
    "    corpus_clean = pickle.load(f)\n",
    "\n",
    "with open('vocabulary', 'rb') as f:\n",
    "    vocabulary = pickle.load(f)\n",
    "    \n",
    "with open('WordCounts', 'rb') as f:\n",
    "    WordCounts = pickle.load(f)"
   ]
  },
  {
   "cell_type": "code",
   "execution_count": 48,
   "metadata": {},
   "outputs": [
    {
     "name": "stdout",
     "output_type": "stream",
     "text": [
      "valid voc 32678\n",
      "invalid voc 109653\n"
     ]
    }
   ],
   "source": [
    "# Ignore low frequency words\n",
    "valid_vocabulary = [k for k,v in WordCounts.items() if v > 10]\n",
    "invalid_vocabulary = [k for k,v in WordCounts.items() if v <= 10]\n",
    "print(\"valid voc\", len(valid_vocabulary))\n",
    "print(\"invalid voc\", len(invalid_vocabulary))\n",
    "\n",
    "with open('valid_vocabulary', 'wb') as f:\n",
    "    pickle.dump(valid_vocabulary, f) \n",
    "    \n",
    "with open('invalid_vocabulary', 'wb') as f:\n",
    "    pickle.dump(invalid_vocabulary, f) "
   ]
  },
  {
   "cell_type": "code",
   "execution_count": 60,
   "metadata": {},
   "outputs": [
    {
     "name": "stdout",
     "output_type": "stream",
     "text": [
      "Sentences processed 393 out of 2217535\n"
     ]
    },
    {
     "ename": "KeyboardInterrupt",
     "evalue": "",
     "output_type": "error",
     "traceback": [
      "\u001b[0;31m---------------------------------------------------------------------------\u001b[0m",
      "\u001b[0;31mKeyboardInterrupt\u001b[0m                         Traceback (most recent call last)",
      "\u001b[0;32m<ipython-input-60-1b3acc4bd0ea>\u001b[0m in \u001b[0;36m<module>\u001b[0;34m()\u001b[0m\n\u001b[1;32m      3\u001b[0m \u001b[0;32mfor\u001b[0m \u001b[0mi\u001b[0m \u001b[0;32min\u001b[0m \u001b[0mrange\u001b[0m\u001b[0;34m(\u001b[0m\u001b[0;36m0\u001b[0m\u001b[0;34m,\u001b[0m\u001b[0mlen\u001b[0m\u001b[0;34m(\u001b[0m\u001b[0mcorpus_clean\u001b[0m\u001b[0;34m)\u001b[0m\u001b[0;34m)\u001b[0m\u001b[0;34m:\u001b[0m\u001b[0;34m\u001b[0m\u001b[0m\n\u001b[1;32m      4\u001b[0m     \u001b[0;32mfor\u001b[0m \u001b[0mword\u001b[0m \u001b[0;32min\u001b[0m \u001b[0mvalid_vocabulary\u001b[0m\u001b[0;34m:\u001b[0m\u001b[0;34m\u001b[0m\u001b[0m\n\u001b[0;32m----> 5\u001b[0;31m         \u001b[0mcorpus_clean\u001b[0m\u001b[0;34m[\u001b[0m\u001b[0mi\u001b[0m\u001b[0;34m]\u001b[0m\u001b[0;34m.\u001b[0m\u001b[0mreplace\u001b[0m\u001b[0;34m(\u001b[0m\u001b[0mword\u001b[0m\u001b[0;34m,\u001b[0m \u001b[0;34m'UNK'\u001b[0m\u001b[0;34m)\u001b[0m\u001b[0;34m\u001b[0m\u001b[0m\n\u001b[0m\u001b[1;32m      6\u001b[0m     \u001b[0mclear_output\u001b[0m\u001b[0;34m(\u001b[0m\u001b[0mwait\u001b[0m \u001b[0;34m=\u001b[0m \u001b[0;32mTrue\u001b[0m\u001b[0;34m)\u001b[0m\u001b[0;34m\u001b[0m\u001b[0m\n\u001b[1;32m      7\u001b[0m     \u001b[0mprint\u001b[0m\u001b[0;34m(\u001b[0m\u001b[0;34m'Sentences processed '\u001b[0m \u001b[0;34m+\u001b[0m \u001b[0mstr\u001b[0m\u001b[0;34m(\u001b[0m\u001b[0mi\u001b[0m\u001b[0;34m+\u001b[0m\u001b[0;36m1\u001b[0m\u001b[0;34m)\u001b[0m \u001b[0;34m+\u001b[0m \u001b[0;34m' out of '\u001b[0m \u001b[0;34m+\u001b[0m \u001b[0mstr\u001b[0m\u001b[0;34m(\u001b[0m\u001b[0mtotal\u001b[0m\u001b[0;34m)\u001b[0m \u001b[0;34m)\u001b[0m\u001b[0;34m\u001b[0m\u001b[0m\n",
      "\u001b[0;31mKeyboardInterrupt\u001b[0m: "
     ]
    }
   ],
   "source": [
    "# Replace OOV words in sentences\n",
    "total = len(corpus_clean)\n",
    "for i in range(0,len(corpus_clean)):\n",
    "    for word in valid_vocabulary:\n",
    "        corpus_clean[i].replace(word, 'UNK')\n",
    "    clear_output(wait = True)\n",
    "    print('Sentences processed ' + str(i+1) + ' out of ' + str(total) )"
   ]
  },
  {
   "cell_type": "code",
   "execution_count": null,
   "metadata": {},
   "outputs": [],
   "source": [
    "corpus_clean_no_OOV = None\n",
    "with open('corpus_clean_no_OOV', 'rb') as f:\n",
    "    corpus_no_OOV = pickle.load(f)"
   ]
  },
  {
   "cell_type": "code",
   "execution_count": null,
   "metadata": {},
   "outputs": [],
   "source": []
  }
 ],
 "metadata": {
  "kernelspec": {
   "display_name": "Python 3",
   "language": "python",
   "name": "python3"
  },
  "language_info": {
   "codemirror_mode": {
    "name": "ipython",
    "version": 3
   },
   "file_extension": ".py",
   "mimetype": "text/x-python",
   "name": "python",
   "nbconvert_exporter": "python",
   "pygments_lexer": "ipython3",
   "version": "3.6.4"
  }
 },
 "nbformat": 4,
 "nbformat_minor": 2
}
