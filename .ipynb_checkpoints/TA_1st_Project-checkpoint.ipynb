{
 "cells": [
  {
   "cell_type": "code",
   "execution_count": 25,
   "metadata": {},
   "outputs": [],
   "source": [
    "import nltk,os\n",
    "from nltk import sent_tokenize"
   ]
  },
  {
   "cell_type": "code",
   "execution_count": 1,
   "metadata": {},
   "outputs": [],
   "source": [
    "import re\n",
    "\n",
    "def Clean_Text(text):\n",
    "    \n",
    "    \"\"\" \n",
    "    1. Remove html like text from europarl e.g. <Chapter 1>\n",
    "    2. Remove line breaks\n",
    "    3. Reduce all whitespaces to 1\n",
    "    4. turn everything to lower case\n",
    "    \"\"\"\n",
    "\n",
    "    clean = re.compile('<.*?>')\n",
    "    \n",
    "    out = text.replace('\\n', '') # Remove line breaks\n",
    "    out = re.sub(clean, '', out) # Remove tagged text e.g. <Chapter 1>\n",
    "    out = re.sub(' +', ' ', out) # Reduce whitespace down to one\n",
    "    \n",
    "    out = out.lower() # Turn everything to lower case\n",
    "    \n",
    "    return out"
   ]
  },
  {
   "cell_type": "code",
   "execution_count": 82,
   "metadata": {},
   "outputs": [
    {
     "name": "stdout",
     "output_type": "stream",
     "text": [
      "File ep-99-12-17.txt finished. Completed 100.0%\n"
     ]
    }
   ],
   "source": [
    "from nltk import sent_tokenize\n",
    "from IPython.display import clear_output\n",
    "\n",
    "path = 'E:\\\\Desktop\\\\en\\\\'\n",
    "text = ''\n",
    "corpus = []\n",
    "\n",
    "sentences = []\n",
    "full_text = ''\n",
    "total = len(os.listdir(path))\n",
    "count = 0\n",
    "\n",
    "for file in os.listdir(path):\n",
    "    f = open(path + file, 'r', encoding=\"utf-8\")\n",
    "    text = f.read()\n",
    "    full_text = full_text + text\n",
    "    f.close()\n",
    "\n",
    "    sentences = [sent.strip() for sent in sent_tokenize(Clean_Text(text))]\n",
    "        \n",
    "    corpus = corpus + sentences\n",
    "\n",
    "    count += 1\n",
    "    \n",
    "    clear_output(wait = True)\n",
    "    print('File ' + file + ' finished. Completed ' + str(round(count*100/total,2)) + '%')"
   ]
  },
  {
   "cell_type": "code",
   "execution_count": 86,
   "metadata": {},
   "outputs": [
    {
     "name": "stdout",
     "output_type": "stream",
     "text": [
      "Full Text Cleaned.\n",
      "-------------------------\n",
      "-------------------------\n",
      "Words Tokenized.\n",
      "-------------------------\n",
      "-------------------------\n",
      "Vocabulary Created.\n",
      "-------------------------\n",
      "-------------------------\n",
      "WordCounts Calculated.\n",
      "-------------------------\n",
      "-------------------------\n"
     ]
    }
   ],
   "source": [
    "from collections import Counter\n",
    "\n",
    "regex = re.compile('[%s]' % re.escape(string.punctuation))\n",
    "\n",
    "full_text = regex.sub('', Clean_Text(full_text))\n",
    "print('Full Text Cleaned.')\n",
    "print('-------------------------')\n",
    "print('-------------------------')\n",
    "\n",
    "AllWords = word_tokenize(full_text)\n",
    "print('Words Tokenized.')\n",
    "print('-------------------------')\n",
    "print('-------------------------')\n",
    "\n",
    "vocabulary = set(AllWords)\n",
    "print('Vocabulary Created.')\n",
    "print('-------------------------')\n",
    "print('-------------------------')\n",
    "\n",
    "WordCounts = Counter(AllWords)\n",
    "print('WordCounts Calculated.')\n",
    "print('-------------------------')\n",
    "print('-------------------------')\n",
    "\n",
    "del full_text,AllWords"
   ]
  },
  {
   "cell_type": "code",
   "execution_count": 90,
   "metadata": {},
   "outputs": [
    {
     "data": {
      "text/plain": [
       "93"
      ]
     },
     "execution_count": 90,
     "metadata": {},
     "output_type": "execute_result"
    }
   ],
   "source": [
    "import gc\n",
    "\n",
    "gc.collect()"
   ]
  },
  {
   "cell_type": "code",
   "execution_count": 92,
   "metadata": {},
   "outputs": [],
   "source": [
    "# Save objects\n",
    "\n",
    "import pickle\n",
    "\"\"\"\n",
    "with open('corpus', 'wb') as f:\n",
    "    pickle.dump(corpus, f)\n",
    "    \n",
    "with open('vocabulary', 'wb') as f:\n",
    "    pickle.dump(vocabulary, f) \n",
    "    \n",
    "with open('WordCounts', 'wb') as f:\n",
    "    pickle.dump(WordCounts, f) \n",
    "\"\"\""
   ]
  },
  {
   "cell_type": "code",
   "execution_count": null,
   "metadata": {},
   "outputs": [],
   "source": [
    "# Load objects\n",
    "\"\"\"\n",
    "with open('corpus', 'rb') as f:\n",
    "    corpus = pickle.load(f)\n",
    "\n",
    "with open('vocabulary', 'rb') as f:\n",
    "    vocabulary = pickle.load(f)\n",
    "    \n",
    "with open('WordCounts', 'rb') as f:\n",
    "    WordCounts = pickle.load(f)\n",
    "\"\"\""
   ]
  },
  {
   "cell_type": "code",
   "execution_count": 99,
   "metadata": {},
   "outputs": [],
   "source": [
    "# Ignore low frequency words\n",
    "valid_vocabulary = [k for k,v in WordCounts.items() if v > 10]\n",
    "invalid_vocabulary = [k for k,v in WordCounts.items() if v <= 10]"
   ]
  },
  {
   "cell_type": "code",
   "execution_count": 105,
   "metadata": {},
   "outputs": [
    {
     "name": "stdout",
     "output_type": "stream",
     "text": [
      "Sentences processed 342 out of 342\n"
     ]
    }
   ],
   "source": [
    "# Replace OOV words in sentences\n",
    "\n",
    "total = len(corpus)\n",
    "\n",
    "for i in range(0,len(corpus)):\n",
    "    \n",
    "    for word in invalid_vocabulary:\n",
    "        corpus[i].replace(word, 'UNK')\n",
    "      \n",
    "    \n",
    "    clear_output(wait = True)\n",
    "    print('Sentences processed ' + str(i+1) + ' out of ' + str(total) )"
   ]
  }
 ],
 "metadata": {
  "kernelspec": {
   "display_name": "Python 3",
   "language": "python",
   "name": "python3"
  },
  "language_info": {
   "codemirror_mode": {
    "name": "ipython",
    "version": 3
   },
   "file_extension": ".py",
   "mimetype": "text/x-python",
   "name": "python",
   "nbconvert_exporter": "python",
   "pygments_lexer": "ipython3",
   "version": "3.6.6"
  }
 },
 "nbformat": 4,
 "nbformat_minor": 2
}
